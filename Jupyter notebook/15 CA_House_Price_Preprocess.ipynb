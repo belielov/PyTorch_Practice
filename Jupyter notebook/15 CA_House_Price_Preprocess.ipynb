{
 "cells": [
  {
   "cell_type": "code",
   "execution_count": 1,
   "id": "580e501f-3eb8-4e05-a0e9-dd5684e161ae",
   "metadata": {},
   "outputs": [],
   "source": [
    "import hashlib\n",
    "import os\n",
    "import tarfile\n",
    "import zipfile\n",
    "import requests\n",
    "import numpy as np\n",
    "import pandas as pd\n",
    "import torch\n",
    "from torch import nn\n",
    "from d2l import torch as d2l\n",
    "import unicodedata\n",
    "from collections import Counter"
   ]
  },
  {
   "cell_type": "code",
   "execution_count": 2,
   "id": "95d2c678-a855-4ec0-a726-37910188ecc7",
   "metadata": {},
   "outputs": [
    {
     "name": "stdout",
     "output_type": "stream",
     "text": [
      "训练集：(47439, 41)\n",
      "测试集：(31626, 40)\n"
     ]
    }
   ],
   "source": [
    "# 加载数据集\n",
    "train_data = pd.read_csv('train.csv')\n",
    "test_data = pd.read_csv('test.csv')\n",
    "print(f'训练集：{train_data.shape}')\n",
    "print(f'测试集：{test_data.shape}')"
   ]
  },
  {
   "cell_type": "code",
   "execution_count": 3,
   "id": "db3c6759-284f-4170-b6cd-92fa850a184d",
   "metadata": {},
   "outputs": [],
   "source": [
    "# Drop 标签\n",
    "irrelevant_columns = ['Address', 'Summary', 'State', 'Heating', 'Cooling', 'Elementary School',\n",
    "                      'Middle School', 'High School', 'Flooring', 'Cooling features', 'Parking features',\n",
    "                      'Appliances included', 'Laundry features', 'Last Sold On', 'Listed On']"
   ]
  },
  {
   "cell_type": "code",
   "execution_count": 4,
   "id": "a6d5458d-a2e5-40d2-9e4c-4fc9c965a8fc",
   "metadata": {},
   "outputs": [],
   "source": [
    "# 稀疏类别标签\n",
    "comb_columns = ['Type', 'Region', 'Heating features', 'City']"
   ]
  },
  {
   "cell_type": "code",
   "execution_count": 5,
   "id": "f46d1537-6526-4f70-a14b-4f38273f50bb",
   "metadata": {},
   "outputs": [],
   "source": [
    "# 特殊的数据标签\n",
    "\"\"\"\n",
    "数字和文本混合, \n",
    "文本内容描述的是拥有的若干卧室，并用,隔开，于是可以将文本的逗号数+1，得到卧室的数量\n",
    "统计逗号的数量，可以使用collections包里的Counter类，\n",
    "由于列表中的部分数字是以字符串形式存放的，在此之前判断一下内容是否为数字\n",
    "\"\"\"\n",
    "List1 = ['Bedrooms', 'Parking']"
   ]
  },
  {
   "cell_type": "code",
   "execution_count": 6,
   "id": "0f343fb3-d145-4570-8c26-af35c0be1510",
   "metadata": {},
   "outputs": [],
   "source": [
    "# 移除不相关特征\n",
    "train_features = train_data.drop(columns=['Sold Price'])\n",
    "train_features = train_features.drop(columns=irrelevant_columns)\n",
    "test_features = test_data.drop(columns=irrelevant_columns)"
   ]
  },
  {
   "cell_type": "code",
   "execution_count": 7,
   "id": "0efe84d7-bced-44d4-a6fe-8f8978f4abb9",
   "metadata": {},
   "outputs": [],
   "source": [
    "# 拼接两个数据集，这里就会让 Id 标签消失\n",
    "all_features = pd.concat((train_features.iloc[:, 1:],test_features.iloc[:, 1:]))"
   ]
  },
  {
   "cell_type": "code",
   "execution_count": 8,
   "id": "878da555-a4dd-4179-be24-2fd44ce6c909",
   "metadata": {},
   "outputs": [],
   "source": [
    "# List1 处理（特殊标签处理）\n",
    "def count_comma(s):\n",
    "    \"\"\" 计算字符串中逗号(',')出现的次数\n",
    "    \n",
    "    该函数使用collections.Counter统计字符串中每个字符的出现次数，\n",
    "    然后返回逗号字符','的出现次数\n",
    "    \n",
    "    参数:\n",
    "        s (str): 需要统计逗号数量的输入字符串\n",
    "        \n",
    "    返回:\n",
    "        int: 字符串中逗号出现的次数\n",
    "        \n",
    "    示例:\n",
    "        >>> count_comma(\"1,2,3\")\n",
    "        2\n",
    "        >>> count_comma(\"Single\")\n",
    "        0\n",
    "    \"\"\"\n",
    "    dic = Counter(s)  # 创建字符计数器，统计字符串中每个字符的出现次数\n",
    "    return dic[',']  # 返回逗号字符','的计数结果"
   ]
  },
  {
   "cell_type": "code",
   "execution_count": 11,
   "id": "7f622c93-07a9-41c6-9db9-a2cc7a650325",
   "metadata": {},
   "outputs": [
    {
     "data": {
      "text/plain": [
       "Counter({'1': 3, '2': 2, '3': 3, 'a': 2, 'b': 4, 'c': 3, '测': 4, '试': 3})"
      ]
     },
     "execution_count": 11,
     "metadata": {},
     "output_type": "execute_result"
    }
   ],
   "source": [
    "# test Counter() Function\n",
    "txt = '12333211abbbccbca测试测试测测试'\n",
    "test_dic = Counter(txt)\n",
    "test_dic"
   ]
  },
  {
   "cell_type": "code",
   "execution_count": 13,
   "id": "38f29312-59e2-4110-9978-935909ed3d4f",
   "metadata": {},
   "outputs": [],
   "source": [
    "def is_number(s):\n",
    "    \"\"\" 检查输入字符串是否能转换为数值类型（整数或浮点数）\n",
    "    \n",
    "    该函数尝试通过两种方式验证字符串是否为有效数字：\n",
    "    1. 尝试转换为浮点数 (float)\n",
    "    2. 尝试解析为Unicode数字字符 (如中文数字\"三\")\n",
    "    \n",
    "    参数:\n",
    "        s (str): 要检查的输入字符串\n",
    "        \n",
    "    返回:\n",
    "        bool: 如果字符串可转换为数字则返回True，否则返回False\n",
    "        \n",
    "    示例:\n",
    "        >>> is_number(\"123\")\n",
    "        True\n",
    "        >>> is_number(\"12.34\")\n",
    "        True\n",
    "        >>> is_number(\"三\")  # 中文数字\"三\"\n",
    "        True\n",
    "        >>> is_number(\"abc\")\n",
    "        False\n",
    "    \"\"\"\n",
    "    # 尝试方法 1: 转换为浮点数\n",
    "    try:\n",
    "        float(s)\n",
    "        return True\n",
    "    except ValueError:\n",
    "        pass  # 不做处理，继续尝试下一种方法\n",
    "\n",
    "    # 尝试方法 2: 解析为 Unicode 数字字符\n",
    "    try:\n",
    "        unicodedata.numeric(s)\n",
    "        return True\n",
    "    except (TypeError, ValueError):\n",
    "        pass\n",
    "\n",
    "    # 所有转换尝试都失败\n",
    "    return False  # 返回 False 表示不是有效数字"
   ]
  },
  {
   "cell_type": "code",
   "execution_count": 18,
   "id": "25aaa468-79dd-4280-9b9d-f1c881233256",
   "metadata": {},
   "outputs": [
    {
     "data": {
      "text/plain": [
       "True"
      ]
     },
     "execution_count": 18,
     "metadata": {},
     "output_type": "execute_result"
    }
   ],
   "source": [
    "# test is_number() function\n",
    "is_number('十')"
   ]
  },
  {
   "cell_type": "code",
   "execution_count": 20,
   "id": "51b6a1cb-7fde-4408-b2cc-72d7391642df",
   "metadata": {},
   "outputs": [],
   "source": [
    "def comma_to_number(features,list):\n",
    "    \"\"\"\n",
    "    将指定列中非数值格式的字符串转换为数值\n",
    "    \n",
    "    该函数专门处理包含逗号分隔值的特殊格式列（如 \"1,2,3\"），\n",
    "    将其转换为表示条目数量的数值（逗号数量 + 1）。\n",
    "    \n",
    "    参数:\n",
    "        features (pd.DataFrame): 包含需要处理特征的数据框\n",
    "        list (list): 需要处理的列名列表（如 ['Bedrooms', 'Parking']）\n",
    "        \n",
    "    返回:\n",
    "        pd.DataFrame: 处理后的数据框副本（索引已重置）\n",
    "        \n",
    "    处理流程:\n",
    "        1. 创建数据的安全拷贝（避免修改原始数据）\n",
    "        2. 重置索引（确保后续定位操作准确）\n",
    "        3. 遍历指定的每一列\n",
    "        4. 对每列中的每个元素:\n",
    "            - 检查是否为数值\n",
    "            - 如果不是数值: 计算逗号数量并加1作为新值\n",
    "        5. 将整列转换为浮点数类型（确保数值一致性）\n",
    "        \n",
    "    示例:\n",
    "        输入: \"1,2,3\" → 处理: 逗号数=2 → 新值=3 (2+1)\n",
    "        输入: \"Single\" → 处理: 逗号数=0 → 新值=1 (0+1)\n",
    "        输入: \"3\" → 处理: 保留原值3 → 转换为3.0\n",
    "    \"\"\"\n",
    "    # 重置索引并丢弃原索引，避免索引不连续导致的定位错误\n",
    "    X = features.reset_index(drop=True).copy()\n",
    "\n",
    "    # 遍历需要处理的列\n",
    "    for cols in list:\n",
    "        # 遍历当前列的每个元素（使用enumerate同时获取索引i和值item）\n",
    "        for i,item in enumerate(X[cols]):\n",
    "            # 检查当前元素是否为数值\n",
    "            if not is_number(item):\n",
    "                X.loc[i, cols] = count_comma(item)+1\n",
    "        # 处理完当前列的所有元素后，将整列转换为浮点数类型\n",
    "        X[cols] = X[cols].astype('float')\n",
    "    return X"
   ]
  },
  {
   "cell_type": "code",
   "execution_count": 23,
   "id": "5a11be61-e540-455e-8e69-54a161613227",
   "metadata": {},
   "outputs": [
    {
     "name": "stdout",
     "output_type": "stream",
     "text": [
      "原始数据: {'Bedrooms': ['1', '2,3', '1,2,3', 'Single', 'Studio', '3', ''], 'Parking': ['Garage', '1,2', 'None', '3', '1,2,3', 'Carport', 'Street Parking'], 'Other_Column': [10, 20, 30, 40, 50, 60, 70]}\n",
      "处理后数据：   Bedrooms  Parking  Other_Column\n",
      "0       1.0      1.0            10\n",
      "1       2.0      2.0            20\n",
      "2       3.0      1.0            30\n",
      "3       1.0      3.0            40\n",
      "4       1.0      3.0            50\n",
      "5       3.0      1.0            60\n",
      "6       1.0      1.0            70\n"
     ]
    }
   ],
   "source": [
    "# test comma_to_number()\n",
    "\n",
    "# 创建测试数据框\n",
    "test_data = {\n",
    "    'Bedrooms': ['1', '2,3', '1,2,3', 'Single', 'Studio', '3', ''],\n",
    "    'Parking': ['Garage', '1,2', 'None', '3', '1,2,3', 'Carport', 'Street Parking'],\n",
    "    'Other_Column': [10, 20, 30, 40, 50, 60, 70]  # 不应被处理的列\n",
    "}\n",
    "\n",
    "test_df = pd.DataFrame(test_data)\n",
    "\n",
    "# 定义需要处理的列\n",
    "columns_to_process = ['Bedrooms', 'Parking']\n",
    "\n",
    "# 应用转换函数\n",
    "result = comma_to_number(test_df, columns_to_process)\n",
    "\n",
    "print(f\"原始数据: {test_data}\")\n",
    "print(f'处理后数据：{result}')"
   ]
  },
  {
   "cell_type": "code",
   "execution_count": 24,
   "id": "72efad17-aa8d-4ceb-b416-0fa40cc89129",
   "metadata": {},
   "outputs": [],
   "source": [
    "# 执行对文字数字混合特殊列的处理\n",
    "all_features = comma_to_number(all_features, List1)"
   ]
  },
  {
   "cell_type": "code",
   "execution_count": 30,
   "id": "ea8688ef-096e-4205-b1bb-d62ca965317d",
   "metadata": {},
   "outputs": [],
   "source": [
    "def combine_rare_categories(df, columns, threshold=1):\n",
    "    \"\"\"\n",
    "    将指定列中的稀疏类别合并为'Other'类别\n",
    "    \n",
    "    该函数用于处理分类特征中的稀疏类别（出现频率低的类别），\n",
    "    将它们统一合并为'Other'类别，从而减少特征维度并增强模型稳定性。\n",
    "    \n",
    "    参数:\n",
    "        df (pd.DataFrame): 需要处理的数据框\n",
    "        columns (list): 需要处理的列名列表\n",
    "        threshold (float): 类别频率阈值（百分比），默认为1%\n",
    "            - 出现频率低于此阈值的类别将被合并\n",
    "    \n",
    "    返回:\n",
    "        pd.DataFrame: 处理后的数据框（原地修改）\n",
    "    \n",
    "    处理逻辑:\n",
    "        1. 遍历指定的每一列\n",
    "        2. 如果列存在于数据框中:\n",
    "            a. 计算每个类别的相对频率（百分比）\n",
    "            b. 识别频率低于阈值的稀疏类别\n",
    "            c. 将这些稀疏类别的值替换为'Other'\n",
    "    \n",
    "    示例:\n",
    "        假设某列有100个样本:\n",
    "          - 类别A出现98次（98%）\n",
    "          - 类别B出现1次（1%）\n",
    "          - 类别C出现1次（1%）\n",
    "        设置threshold=1时，类别B和C将被合并为'Other'\n",
    "    \"\"\"\n",
    "    # 遍历所有指定列\n",
    "    for col in columns:\n",
    "        # 检查当前列是否存在于数据框中\n",
    "        if col in df.columns:  \n",
    "            # 计算当前列每个类别的相对频率（转换为百分比）\n",
    "            value_counts = df[col].value_counts(normalize=True) * 100\n",
    "\n",
    "            # 使用布尔索引筛选出符合条件的类别及其频率\n",
    "            rare_categories = value_counts[value_counts < threshold].index\n",
    "\n",
    "            # 应用替换：将稀疏类别替换为'Other'\n",
    "            df[col] = df[col].apply(lambda x: 'Other' if x in rare_categories else x)  \n",
    "\n",
    "    # 返回处理后的数据框（原地修改）\n",
    "    return df"
   ]
  },
  {
   "cell_type": "code",
   "execution_count": 31,
   "id": "8a80aafc-6781-4ccb-949c-3195faf1eb71",
   "metadata": {},
   "outputs": [
    {
     "name": "stdout",
     "output_type": "stream",
     "text": [
      "处理前:\n",
      "City列分布:\n",
      " NY     88.0\n",
      "PHX     5.0\n",
      "CH      3.0\n",
      "MI      2.0\n",
      "SF      1.0\n",
      "LA      1.0\n",
      "Name: City, dtype: float64\n",
      "\n",
      "Type列分布:\n",
      " House        60.0\n",
      "Apartment    35.0\n",
      "Condo         4.0\n",
      "Loft          1.0\n",
      "Name: Type, dtype: float64\n",
      "\n",
      "处理后:\n",
      "City列分布:\n",
      " NY       88.0\n",
      "PHX       5.0\n",
      "Other     4.0\n",
      "CH        3.0\n",
      "Name: City, dtype: float64\n",
      "\n",
      "Type列分布:\n",
      " House        60.0\n",
      "Apartment    35.0\n",
      "Condo         4.0\n",
      "Other         1.0\n",
      "Name: Type, dtype: float64\n"
     ]
    }
   ],
   "source": [
    "# test combine_rare_categories()\n",
    "# 创建测试数据\n",
    "test_data = pd.DataFrame({\n",
    "    'City': ['NY']*88 + ['LA'] + ['SF'] + ['CH']*3 + ['MI']*2 + ['PHX']*5,\n",
    "    'Type': ['House']*60 + ['Apartment']*35 + ['Condo']*4 + ['Loft']*1\n",
    "})\n",
    "\n",
    "print(\"处理前:\")\n",
    "print(\"City列分布:\\n\", test_data['City'].value_counts(normalize=True)*100)\n",
    "print(\"\\nType列分布:\\n\", test_data['Type'].value_counts(normalize=True)*100)\n",
    "\n",
    "# 应用函数（设置threshold=3）\n",
    "processed_data = combine_rare_categories(test_data, ['City', 'Type'], threshold=3)\n",
    "\n",
    "print(\"\\n处理后:\")\n",
    "print(\"City列分布:\\n\", processed_data['City'].value_counts(normalize=True)*100)\n",
    "print(\"\\nType列分布:\\n\", processed_data['Type'].value_counts(normalize=True)*100)"
   ]
  },
  {
   "cell_type": "code",
   "execution_count": 33,
   "id": "23d42021-603f-4c2f-80dd-e3b9ce26f5f8",
   "metadata": {},
   "outputs": [
    {
     "name": "stdout",
     "output_type": "stream",
     "text": [
      "           Type  Year built  Parking     Lot  Bedrooms  Bathrooms  \\\n",
      "0  SingleFamily      1969.0      3.0     1.0       4.0        0.0   \n",
      "1  SingleFamily      1926.0      2.0  4047.0       3.0        2.0   \n",
      "2  SingleFamily      1958.0      1.0  9147.0       2.0        3.0   \n",
      "3  SingleFamily      1947.0      3.0     NaN       5.0        3.0   \n",
      "4    VacantLand         NaN      1.0     NaN       NaN        NaN   \n",
      "\n",
      "   Full bathrooms  Total interior livable area  Total spaces  Garage spaces  \\\n",
      "0             NaN                          1.0           0.0            0.0   \n",
      "1             2.0                        872.0           1.0            1.0   \n",
      "2             1.0                       1152.0           0.0            0.0   \n",
      "3             3.0                       2612.0           0.0            0.0   \n",
      "4             NaN                          NaN           NaN            NaN   \n",
      "\n",
      "   ... Middle School Distance  High School Score  High School Distance  \\\n",
      "0  ...                    NaN                8.0                   1.3   \n",
      "1  ...                    1.1                2.0                   1.3   \n",
      "2  ...                    NaN                NaN                  10.1   \n",
      "3  ...                    0.2                8.0                   0.2   \n",
      "4  ...                   10.2                6.0                  10.6   \n",
      "\n",
      "   Heating features  Tax assessed value  Annual tax amount  Listed Price  \\\n",
      "0   Forced air, Gas            886486.0            12580.0     4198000.0   \n",
      "1             Other            505000.0             6253.0      525000.0   \n",
      "2        Forced air             49627.0              468.0      180000.0   \n",
      "3           Central           1775000.0            20787.0     1895000.0   \n",
      "4               NaN                 NaN                NaN     1595000.0   \n",
      "\n",
      "  Last Sold Price         City    Zip  \n",
      "0             NaN        Other  94022  \n",
      "1        328000.0  Los Angeles  90047  \n",
      "2             NaN        Other  95375  \n",
      "3       1500000.0        Other  90230  \n",
      "4        900000.0        Other  93432  \n",
      "\n",
      "[5 rows x 24 columns]\n"
     ]
    }
   ],
   "source": [
    "# 合并稀疏项\n",
    "df_combined = combine_rare_categories(all_features, comb_columns, threshold=1)\n",
    "\n",
    "# 查看合并后的数据集\n",
    "print(df_combined.head())"
   ]
  },
  {
   "cell_type": "code",
   "execution_count": 34,
   "id": "1fe6690a-1043-44db-b460-660bd7a1d325",
   "metadata": {},
   "outputs": [],
   "source": [
    "# 自此我们保存的 all_features 进行了 drop 不需要的项，以及合并稀疏矩阵，对 bedroom 和 parking 进行了数字化处理\n",
    "all_features.to_csv('all_features.csv', index=False)"
   ]
  }
 ],
 "metadata": {
  "kernelspec": {
   "display_name": "pytorch",
   "language": "python",
   "name": "pytorch"
  },
  "language_info": {
   "codemirror_mode": {
    "name": "ipython",
    "version": 3
   },
   "file_extension": ".py",
   "mimetype": "text/x-python",
   "name": "python",
   "nbconvert_exporter": "python",
   "pygments_lexer": "ipython3",
   "version": "3.6.13"
  }
 },
 "nbformat": 4,
 "nbformat_minor": 5
}
